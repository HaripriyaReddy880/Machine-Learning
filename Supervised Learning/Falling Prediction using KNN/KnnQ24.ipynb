{
  "nbformat": 4,
  "nbformat_minor": 0,
  "metadata": {
    "colab": {
      "name": "KnnQ24.ipynb",
      "provenance": []
    },
    "kernelspec": {
      "name": "python3",
      "display_name": "Python 3"
    },
    "language_info": {
      "name": "python"
    }
  },
  "cells": [
    {
      "cell_type": "code",
      "metadata": {
        "id": "IpFMRbPp5-9I"
      },
      "source": [
        "from math import sqrt"
      ],
      "execution_count": null,
      "outputs": []
    },
    {
      "cell_type": "code",
      "metadata": {
        "id": "0EjaMTni6S8c"
      },
      "source": [
        "def euclidean_distance(row1, row2):\n",
        "\tdistance = 0.0\n",
        "\tfor i in range(len(row1)-1):\n",
        "\t\tdistance += (row1[i] - row2[i])**2\n",
        "\tprint(sqrt(distance))\n",
        "\treturn sqrt(distance)"
      ],
      "execution_count": null,
      "outputs": []
    },
    {
      "cell_type": "code",
      "metadata": {
        "id": "Oty23yX16WJX"
      },
      "source": [
        "def get_neighbors(train, test_row, num_neighbors):\n",
        "\tdistances = list()\n",
        "\tfor train_row in train:\n",
        "\t\tdist = euclidean_distance(test_row, train_row)\n",
        "\t\tdistances.append((train_row, dist))\n",
        "\tdistances.sort(key=lambda tup: tup[1])\n",
        "\tneighbors = list()\n",
        "\tfor i in range(num_neighbors):\n",
        "\t\tneighbors.append(distances[i][0])\n",
        "\tprint(neighbors)\n",
        "\treturn neighbors"
      ],
      "execution_count": null,
      "outputs": []
    },
    {
      "cell_type": "code",
      "metadata": {
        "id": "d-swarKy6ZWb"
      },
      "source": [
        "def predict_classification(train, test_row, num_neighbors):\n",
        "\tneighbors = get_neighbors(train, test_row, num_neighbors)\n",
        "\toutput_values = [row[-1] for row in neighbors]\n",
        "\tprediction = max(set(output_values), key=output_values.count)\n",
        "\treturn prediction"
      ],
      "execution_count": null,
      "outputs": []
    },
    {
      "cell_type": "code",
      "metadata": {
        "id": "kL0a6rWY9uhS"
      },
      "source": [
        "dataset = [[1,2,3,2,1,3,0],\n",
        "[2,1,3,3,1,2,0],\n",
        "[1,1,2,3,2,2,0],\n",
        "[2,2,3,3,2,1,0],\n",
        "[6,5,7,5,6,7,1],\n",
        "[5,6,6,6,5,7,1],\n",
        "[5,6,7,5,7,6,1],\n",
        "[7,6,7,6,5,6,1],\n",
        "[7,6,5,5,6,7,1]]"
      ],
      "execution_count": null,
      "outputs": []
    },
    {
      "cell_type": "code",
      "metadata": {
        "id": "XBvn8sTm6jtQ",
        "colab": {
          "base_uri": "https://localhost:8080/"
        },
        "outputId": "cc01bb83-95bc-4f8f-843b-feb20294ac53"
      },
      "source": [
        "prediction = predict_classification(dataset, dataset[-1], 3)"
      ],
      "execution_count": null,
      "outputs": [
        {
          "output_type": "stream",
          "text": [
            "10.295630140987\n",
            "10.392304845413264\n",
            "10.723805294763608\n",
            "10.04987562112089\n",
            "2.449489742783178\n",
            "2.6457513110645907\n",
            "3.1622776601683795\n",
            "2.6457513110645907\n",
            "0.0\n",
            "[[7, 6, 5, 5, 6, 7, 1], [6, 5, 7, 5, 6, 7, 1], [5, 6, 6, 6, 5, 7, 1]]\n"
          ],
          "name": "stdout"
        }
      ]
    },
    {
      "cell_type": "code",
      "metadata": {
        "id": "bJ6knA_I6lQi",
        "colab": {
          "base_uri": "https://localhost:8080/"
        },
        "outputId": "4f38af09-af6b-4f9f-a43b-ccb8600eea0a"
      },
      "source": [
        "print('Expected %d, Got %d.' % (dataset[-1][-1], prediction))"
      ],
      "execution_count": null,
      "outputs": [
        {
          "output_type": "stream",
          "text": [
            "Expected 1, Got 1.\n"
          ],
          "name": "stdout"
        }
      ]
    }
  ]
}